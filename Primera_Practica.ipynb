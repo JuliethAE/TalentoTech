{
  "nbformat": 4,
  "nbformat_minor": 0,
  "metadata": {
    "colab": {
      "provenance": [],
      "toc_visible": true,
      "mount_file_id": "12yYcVkoIn7zwrHMKOnu0pbUV_vRVvSQa",
      "authorship_tag": "ABX9TyOXW1t95ROIAKGQLr5/iYKh",
      "include_colab_link": true
    },
    "kernelspec": {
      "name": "python3",
      "display_name": "Python 3"
    },
    "language_info": {
      "name": "python"
    }
  },
  "cells": [
    {
      "cell_type": "markdown",
      "metadata": {
        "id": "view-in-github",
        "colab_type": "text"
      },
      "source": [
        "<a href=\"https://colab.research.google.com/github/JuliethAE/TalentoTech/blob/main/Primera_Practica.ipynb\" target=\"_parent\"><img src=\"https://colab.research.google.com/assets/colab-badge.svg\" alt=\"Open In Colab\"/></a>"
      ]
    },
    {
      "cell_type": "markdown",
      "source": [
        "### **Practica 1 de Talento Tech: Incluye importar un dataset**"
      ],
      "metadata": {
        "id": "s7NGwGDL3vq3"
      }
    },
    {
      "cell_type": "code",
      "source": [
        "#Paso 1: Debo tener el archivo en una carpeta\n",
        "#Paso 2: Debo establecer una conexión con la carpeta\n",
        "#Paso 3: Ejecutar la celda de la conexión y revisar que este OK."
      ],
      "metadata": {
        "id": "t-TOaww44hDl"
      },
      "execution_count": 81,
      "outputs": []
    },
    {
      "cell_type": "markdown",
      "source": [
        "### **Ejemplo:**"
      ],
      "metadata": {
        "id": "MhXvgT7br2O7"
      }
    },
    {
      "cell_type": "code",
      "source": [
        "#Variable e imput\n",
        "Val1 = 10\n",
        "Val2 = 12\n",
        "\n",
        "#Proceso\n",
        "Suma = Val1 + Val2\n",
        "\n",
        "#Output o salida\n",
        "print (Suma)"
      ],
      "metadata": {
        "colab": {
          "base_uri": "https://localhost:8080/"
        },
        "id": "ArruFFNCVb_6",
        "outputId": "c9a896e9-94ec-4365-ba55-c10391ad0fa2"
      },
      "execution_count": 82,
      "outputs": [
        {
          "output_type": "stream",
          "name": "stdout",
          "text": [
            "22\n"
          ]
        }
      ]
    },
    {
      "cell_type": "markdown",
      "source": [
        "### **PRACTICA CONEXIÓN CON LA CARPETA DE DRIVE**"
      ],
      "metadata": {
        "id": "G2dhkT4bJLXE"
      }
    },
    {
      "cell_type": "code",
      "source": [
        "from google.colab import drive #Traemos la clase drive, dentro del modulo colab, de paquete de google\n",
        "drive.mount('/content/drive') #Establecemos la conexión a través del metodo mount"
      ],
      "metadata": {
        "colab": {
          "base_uri": "https://localhost:8080/"
        },
        "id": "QUCUdGqT9Hyh",
        "outputId": "c6eba461-14fb-4cda-fcbc-dcf447baa86f"
      },
      "execution_count": 83,
      "outputs": [
        {
          "output_type": "stream",
          "name": "stdout",
          "text": [
            "Drive already mounted at /content/drive; to attempt to forcibly remount, call drive.mount(\"/content/drive\", force_remount=True).\n"
          ]
        }
      ]
    },
    {
      "cell_type": "code",
      "source": [
        "path = '/content/drive/MyDrive/Colab Notebooks/VENTAS.xlsx'"
      ],
      "metadata": {
        "id": "C7-0FwntAf9I"
      },
      "execution_count": 84,
      "outputs": []
    },
    {
      "cell_type": "code",
      "source": [
        "import pandas as pd\n"
      ],
      "metadata": {
        "id": "Zkz5xX9EGM32"
      },
      "execution_count": 85,
      "outputs": []
    },
    {
      "cell_type": "code",
      "source": [
        "df = pd.read_excel(path)\n",
        "\n",
        "cal_vent_mes =\"calcular las ventas del mes * region * vendedor * producto\""
      ],
      "metadata": {
        "id": "WdPYhW-RGfvw"
      },
      "execution_count": 86,
      "outputs": []
    },
    {
      "cell_type": "markdown",
      "source": [
        "### **VISUALIZACIÓN Y EXPLORACIÓN DE DATOS**"
      ],
      "metadata": {
        "id": "pv7f3T8zmQ3T"
      }
    },
    {
      "cell_type": "markdown",
      "source": [
        "### **EJERCICIO 1:**"
      ],
      "metadata": {
        "id": "2NsZwBth2yxp"
      }
    },
    {
      "cell_type": "code",
      "source": [
        "#Muestra las primeras filas del DataFrame\n",
        "df.head()"
      ],
      "metadata": {
        "colab": {
          "base_uri": "https://localhost:8080/",
          "height": 206
        },
        "id": "xEFCeHNUmVCL",
        "outputId": "a87df4aa-a8f4-4079-a784-97cc15c19fb6"
      },
      "execution_count": 87,
      "outputs": [
        {
          "output_type": "execute_result",
          "data": {
            "text/plain": [
              "    Region      Producto Vendedor  Ventas\n",
              "0  Central    Accesorios    David    8287\n",
              "1  Central    Accesorios    Karen    6909\n",
              "2  Central  Dispositivos    David   11420\n",
              "3  Central  Dispositivos    Karen   12948\n",
              "4  Central      Sistemas    David   20098"
            ],
            "text/html": [
              "\n",
              "  <div id=\"df-415086e6-ce3e-4f78-bbc5-b0d0f415e9b6\" class=\"colab-df-container\">\n",
              "    <div>\n",
              "<style scoped>\n",
              "    .dataframe tbody tr th:only-of-type {\n",
              "        vertical-align: middle;\n",
              "    }\n",
              "\n",
              "    .dataframe tbody tr th {\n",
              "        vertical-align: top;\n",
              "    }\n",
              "\n",
              "    .dataframe thead th {\n",
              "        text-align: right;\n",
              "    }\n",
              "</style>\n",
              "<table border=\"1\" class=\"dataframe\">\n",
              "  <thead>\n",
              "    <tr style=\"text-align: right;\">\n",
              "      <th></th>\n",
              "      <th>Region</th>\n",
              "      <th>Producto</th>\n",
              "      <th>Vendedor</th>\n",
              "      <th>Ventas</th>\n",
              "    </tr>\n",
              "  </thead>\n",
              "  <tbody>\n",
              "    <tr>\n",
              "      <th>0</th>\n",
              "      <td>Central</td>\n",
              "      <td>Accesorios</td>\n",
              "      <td>David</td>\n",
              "      <td>8287</td>\n",
              "    </tr>\n",
              "    <tr>\n",
              "      <th>1</th>\n",
              "      <td>Central</td>\n",
              "      <td>Accesorios</td>\n",
              "      <td>Karen</td>\n",
              "      <td>6909</td>\n",
              "    </tr>\n",
              "    <tr>\n",
              "      <th>2</th>\n",
              "      <td>Central</td>\n",
              "      <td>Dispositivos</td>\n",
              "      <td>David</td>\n",
              "      <td>11420</td>\n",
              "    </tr>\n",
              "    <tr>\n",
              "      <th>3</th>\n",
              "      <td>Central</td>\n",
              "      <td>Dispositivos</td>\n",
              "      <td>Karen</td>\n",
              "      <td>12948</td>\n",
              "    </tr>\n",
              "    <tr>\n",
              "      <th>4</th>\n",
              "      <td>Central</td>\n",
              "      <td>Sistemas</td>\n",
              "      <td>David</td>\n",
              "      <td>20098</td>\n",
              "    </tr>\n",
              "  </tbody>\n",
              "</table>\n",
              "</div>\n",
              "    <div class=\"colab-df-buttons\">\n",
              "\n",
              "  <div class=\"colab-df-container\">\n",
              "    <button class=\"colab-df-convert\" onclick=\"convertToInteractive('df-415086e6-ce3e-4f78-bbc5-b0d0f415e9b6')\"\n",
              "            title=\"Convert this dataframe to an interactive table.\"\n",
              "            style=\"display:none;\">\n",
              "\n",
              "  <svg xmlns=\"http://www.w3.org/2000/svg\" height=\"24px\" viewBox=\"0 -960 960 960\">\n",
              "    <path d=\"M120-120v-720h720v720H120Zm60-500h600v-160H180v160Zm220 220h160v-160H400v160Zm0 220h160v-160H400v160ZM180-400h160v-160H180v160Zm440 0h160v-160H620v160ZM180-180h160v-160H180v160Zm440 0h160v-160H620v160Z\"/>\n",
              "  </svg>\n",
              "    </button>\n",
              "\n",
              "  <style>\n",
              "    .colab-df-container {\n",
              "      display:flex;\n",
              "      gap: 12px;\n",
              "    }\n",
              "\n",
              "    .colab-df-convert {\n",
              "      background-color: #E8F0FE;\n",
              "      border: none;\n",
              "      border-radius: 50%;\n",
              "      cursor: pointer;\n",
              "      display: none;\n",
              "      fill: #1967D2;\n",
              "      height: 32px;\n",
              "      padding: 0 0 0 0;\n",
              "      width: 32px;\n",
              "    }\n",
              "\n",
              "    .colab-df-convert:hover {\n",
              "      background-color: #E2EBFA;\n",
              "      box-shadow: 0px 1px 2px rgba(60, 64, 67, 0.3), 0px 1px 3px 1px rgba(60, 64, 67, 0.15);\n",
              "      fill: #174EA6;\n",
              "    }\n",
              "\n",
              "    .colab-df-buttons div {\n",
              "      margin-bottom: 4px;\n",
              "    }\n",
              "\n",
              "    [theme=dark] .colab-df-convert {\n",
              "      background-color: #3B4455;\n",
              "      fill: #D2E3FC;\n",
              "    }\n",
              "\n",
              "    [theme=dark] .colab-df-convert:hover {\n",
              "      background-color: #434B5C;\n",
              "      box-shadow: 0px 1px 3px 1px rgba(0, 0, 0, 0.15);\n",
              "      filter: drop-shadow(0px 1px 2px rgba(0, 0, 0, 0.3));\n",
              "      fill: #FFFFFF;\n",
              "    }\n",
              "  </style>\n",
              "\n",
              "    <script>\n",
              "      const buttonEl =\n",
              "        document.querySelector('#df-415086e6-ce3e-4f78-bbc5-b0d0f415e9b6 button.colab-df-convert');\n",
              "      buttonEl.style.display =\n",
              "        google.colab.kernel.accessAllowed ? 'block' : 'none';\n",
              "\n",
              "      async function convertToInteractive(key) {\n",
              "        const element = document.querySelector('#df-415086e6-ce3e-4f78-bbc5-b0d0f415e9b6');\n",
              "        const dataTable =\n",
              "          await google.colab.kernel.invokeFunction('convertToInteractive',\n",
              "                                                    [key], {});\n",
              "        if (!dataTable) return;\n",
              "\n",
              "        const docLinkHtml = 'Like what you see? Visit the ' +\n",
              "          '<a target=\"_blank\" href=https://colab.research.google.com/notebooks/data_table.ipynb>data table notebook</a>'\n",
              "          + ' to learn more about interactive tables.';\n",
              "        element.innerHTML = '';\n",
              "        dataTable['output_type'] = 'display_data';\n",
              "        await google.colab.output.renderOutput(dataTable, element);\n",
              "        const docLink = document.createElement('div');\n",
              "        docLink.innerHTML = docLinkHtml;\n",
              "        element.appendChild(docLink);\n",
              "      }\n",
              "    </script>\n",
              "  </div>\n",
              "\n",
              "\n",
              "<div id=\"df-d68a8c3e-8e39-4189-b3f7-297837bed30d\">\n",
              "  <button class=\"colab-df-quickchart\" onclick=\"quickchart('df-d68a8c3e-8e39-4189-b3f7-297837bed30d')\"\n",
              "            title=\"Suggest charts\"\n",
              "            style=\"display:none;\">\n",
              "\n",
              "<svg xmlns=\"http://www.w3.org/2000/svg\" height=\"24px\"viewBox=\"0 0 24 24\"\n",
              "     width=\"24px\">\n",
              "    <g>\n",
              "        <path d=\"M19 3H5c-1.1 0-2 .9-2 2v14c0 1.1.9 2 2 2h14c1.1 0 2-.9 2-2V5c0-1.1-.9-2-2-2zM9 17H7v-7h2v7zm4 0h-2V7h2v10zm4 0h-2v-4h2v4z\"/>\n",
              "    </g>\n",
              "</svg>\n",
              "  </button>\n",
              "\n",
              "<style>\n",
              "  .colab-df-quickchart {\n",
              "      --bg-color: #E8F0FE;\n",
              "      --fill-color: #1967D2;\n",
              "      --hover-bg-color: #E2EBFA;\n",
              "      --hover-fill-color: #174EA6;\n",
              "      --disabled-fill-color: #AAA;\n",
              "      --disabled-bg-color: #DDD;\n",
              "  }\n",
              "\n",
              "  [theme=dark] .colab-df-quickchart {\n",
              "      --bg-color: #3B4455;\n",
              "      --fill-color: #D2E3FC;\n",
              "      --hover-bg-color: #434B5C;\n",
              "      --hover-fill-color: #FFFFFF;\n",
              "      --disabled-bg-color: #3B4455;\n",
              "      --disabled-fill-color: #666;\n",
              "  }\n",
              "\n",
              "  .colab-df-quickchart {\n",
              "    background-color: var(--bg-color);\n",
              "    border: none;\n",
              "    border-radius: 50%;\n",
              "    cursor: pointer;\n",
              "    display: none;\n",
              "    fill: var(--fill-color);\n",
              "    height: 32px;\n",
              "    padding: 0;\n",
              "    width: 32px;\n",
              "  }\n",
              "\n",
              "  .colab-df-quickchart:hover {\n",
              "    background-color: var(--hover-bg-color);\n",
              "    box-shadow: 0 1px 2px rgba(60, 64, 67, 0.3), 0 1px 3px 1px rgba(60, 64, 67, 0.15);\n",
              "    fill: var(--button-hover-fill-color);\n",
              "  }\n",
              "\n",
              "  .colab-df-quickchart-complete:disabled,\n",
              "  .colab-df-quickchart-complete:disabled:hover {\n",
              "    background-color: var(--disabled-bg-color);\n",
              "    fill: var(--disabled-fill-color);\n",
              "    box-shadow: none;\n",
              "  }\n",
              "\n",
              "  .colab-df-spinner {\n",
              "    border: 2px solid var(--fill-color);\n",
              "    border-color: transparent;\n",
              "    border-bottom-color: var(--fill-color);\n",
              "    animation:\n",
              "      spin 1s steps(1) infinite;\n",
              "  }\n",
              "\n",
              "  @keyframes spin {\n",
              "    0% {\n",
              "      border-color: transparent;\n",
              "      border-bottom-color: var(--fill-color);\n",
              "      border-left-color: var(--fill-color);\n",
              "    }\n",
              "    20% {\n",
              "      border-color: transparent;\n",
              "      border-left-color: var(--fill-color);\n",
              "      border-top-color: var(--fill-color);\n",
              "    }\n",
              "    30% {\n",
              "      border-color: transparent;\n",
              "      border-left-color: var(--fill-color);\n",
              "      border-top-color: var(--fill-color);\n",
              "      border-right-color: var(--fill-color);\n",
              "    }\n",
              "    40% {\n",
              "      border-color: transparent;\n",
              "      border-right-color: var(--fill-color);\n",
              "      border-top-color: var(--fill-color);\n",
              "    }\n",
              "    60% {\n",
              "      border-color: transparent;\n",
              "      border-right-color: var(--fill-color);\n",
              "    }\n",
              "    80% {\n",
              "      border-color: transparent;\n",
              "      border-right-color: var(--fill-color);\n",
              "      border-bottom-color: var(--fill-color);\n",
              "    }\n",
              "    90% {\n",
              "      border-color: transparent;\n",
              "      border-bottom-color: var(--fill-color);\n",
              "    }\n",
              "  }\n",
              "</style>\n",
              "\n",
              "  <script>\n",
              "    async function quickchart(key) {\n",
              "      const quickchartButtonEl =\n",
              "        document.querySelector('#' + key + ' button');\n",
              "      quickchartButtonEl.disabled = true;  // To prevent multiple clicks.\n",
              "      quickchartButtonEl.classList.add('colab-df-spinner');\n",
              "      try {\n",
              "        const charts = await google.colab.kernel.invokeFunction(\n",
              "            'suggestCharts', [key], {});\n",
              "      } catch (error) {\n",
              "        console.error('Error during call to suggestCharts:', error);\n",
              "      }\n",
              "      quickchartButtonEl.classList.remove('colab-df-spinner');\n",
              "      quickchartButtonEl.classList.add('colab-df-quickchart-complete');\n",
              "    }\n",
              "    (() => {\n",
              "      let quickchartButtonEl =\n",
              "        document.querySelector('#df-d68a8c3e-8e39-4189-b3f7-297837bed30d button');\n",
              "      quickchartButtonEl.style.display =\n",
              "        google.colab.kernel.accessAllowed ? 'block' : 'none';\n",
              "    })();\n",
              "  </script>\n",
              "</div>\n",
              "\n",
              "    </div>\n",
              "  </div>\n"
            ],
            "application/vnd.google.colaboratory.intrinsic+json": {
              "type": "dataframe",
              "variable_name": "df",
              "summary": "{\n  \"name\": \"df\",\n  \"rows\": 18,\n  \"fields\": [\n    {\n      \"column\": \"Region\",\n      \"properties\": {\n        \"dtype\": \"category\",\n        \"samples\": [\n          \"Central\",\n          \"Este\",\n          \"Oeste\"\n        ],\n        \"num_unique_values\": 3,\n        \"semantic_type\": \"\",\n        \"description\": \"\"\n      }\n    },\n    {\n      \"column\": \"Producto\",\n      \"properties\": {\n        \"dtype\": \"category\",\n        \"samples\": [\n          \"Accesorios\",\n          \"Dispositivos\",\n          \"Sistemas\"\n        ],\n        \"num_unique_values\": 3,\n        \"semantic_type\": \"\",\n        \"description\": \"\"\n      }\n    },\n    {\n      \"column\": \"Vendedor\",\n      \"properties\": {\n        \"dtype\": \"category\",\n        \"samples\": [\n          \"David\",\n          \"Karen\",\n          \"Sara\"\n        ],\n        \"num_unique_values\": 6,\n        \"semantic_type\": \"\",\n        \"description\": \"\"\n      }\n    },\n    {\n      \"column\": \"Ventas\",\n      \"properties\": {\n        \"dtype\": \"number\",\n        \"std\": 8153,\n        \"min\": 4744,\n        \"max\": 32855,\n        \"samples\": [\n          8287,\n          6909,\n          10348\n        ],\n        \"num_unique_values\": 18,\n        \"semantic_type\": \"\",\n        \"description\": \"\"\n      }\n    }\n  ]\n}"
            }
          },
          "metadata": {},
          "execution_count": 87
        }
      ]
    },
    {
      "cell_type": "code",
      "source": [
        " #Muestra las ultimas filas del DataFrame\n",
        "df.tail()"
      ],
      "metadata": {
        "colab": {
          "base_uri": "https://localhost:8080/",
          "height": 206
        },
        "id": "C4wR9z6cmdAo",
        "outputId": "7f82b4ee-33e6-47f9-b463-010f6e8b3ce8"
      },
      "execution_count": 88,
      "outputs": [
        {
          "output_type": "execute_result",
          "data": {
            "text/plain": [
              "   Region      Producto Vendedor  Ventas\n",
              "13  Oeste    Accesorios     Sara    5442\n",
              "14  Oeste  Dispositivos    Kevin   10711\n",
              "15  Oeste  Dispositivos     Sara    8780\n",
              "16  Oeste      Sistemas    Kevin   32855\n",
              "17  Oeste      Sistemas     Sara   23151"
            ],
            "text/html": [
              "\n",
              "  <div id=\"df-316a532e-c48c-4422-a932-a440e62b1b2f\" class=\"colab-df-container\">\n",
              "    <div>\n",
              "<style scoped>\n",
              "    .dataframe tbody tr th:only-of-type {\n",
              "        vertical-align: middle;\n",
              "    }\n",
              "\n",
              "    .dataframe tbody tr th {\n",
              "        vertical-align: top;\n",
              "    }\n",
              "\n",
              "    .dataframe thead th {\n",
              "        text-align: right;\n",
              "    }\n",
              "</style>\n",
              "<table border=\"1\" class=\"dataframe\">\n",
              "  <thead>\n",
              "    <tr style=\"text-align: right;\">\n",
              "      <th></th>\n",
              "      <th>Region</th>\n",
              "      <th>Producto</th>\n",
              "      <th>Vendedor</th>\n",
              "      <th>Ventas</th>\n",
              "    </tr>\n",
              "  </thead>\n",
              "  <tbody>\n",
              "    <tr>\n",
              "      <th>13</th>\n",
              "      <td>Oeste</td>\n",
              "      <td>Accesorios</td>\n",
              "      <td>Sara</td>\n",
              "      <td>5442</td>\n",
              "    </tr>\n",
              "    <tr>\n",
              "      <th>14</th>\n",
              "      <td>Oeste</td>\n",
              "      <td>Dispositivos</td>\n",
              "      <td>Kevin</td>\n",
              "      <td>10711</td>\n",
              "    </tr>\n",
              "    <tr>\n",
              "      <th>15</th>\n",
              "      <td>Oeste</td>\n",
              "      <td>Dispositivos</td>\n",
              "      <td>Sara</td>\n",
              "      <td>8780</td>\n",
              "    </tr>\n",
              "    <tr>\n",
              "      <th>16</th>\n",
              "      <td>Oeste</td>\n",
              "      <td>Sistemas</td>\n",
              "      <td>Kevin</td>\n",
              "      <td>32855</td>\n",
              "    </tr>\n",
              "    <tr>\n",
              "      <th>17</th>\n",
              "      <td>Oeste</td>\n",
              "      <td>Sistemas</td>\n",
              "      <td>Sara</td>\n",
              "      <td>23151</td>\n",
              "    </tr>\n",
              "  </tbody>\n",
              "</table>\n",
              "</div>\n",
              "    <div class=\"colab-df-buttons\">\n",
              "\n",
              "  <div class=\"colab-df-container\">\n",
              "    <button class=\"colab-df-convert\" onclick=\"convertToInteractive('df-316a532e-c48c-4422-a932-a440e62b1b2f')\"\n",
              "            title=\"Convert this dataframe to an interactive table.\"\n",
              "            style=\"display:none;\">\n",
              "\n",
              "  <svg xmlns=\"http://www.w3.org/2000/svg\" height=\"24px\" viewBox=\"0 -960 960 960\">\n",
              "    <path d=\"M120-120v-720h720v720H120Zm60-500h600v-160H180v160Zm220 220h160v-160H400v160Zm0 220h160v-160H400v160ZM180-400h160v-160H180v160Zm440 0h160v-160H620v160ZM180-180h160v-160H180v160Zm440 0h160v-160H620v160Z\"/>\n",
              "  </svg>\n",
              "    </button>\n",
              "\n",
              "  <style>\n",
              "    .colab-df-container {\n",
              "      display:flex;\n",
              "      gap: 12px;\n",
              "    }\n",
              "\n",
              "    .colab-df-convert {\n",
              "      background-color: #E8F0FE;\n",
              "      border: none;\n",
              "      border-radius: 50%;\n",
              "      cursor: pointer;\n",
              "      display: none;\n",
              "      fill: #1967D2;\n",
              "      height: 32px;\n",
              "      padding: 0 0 0 0;\n",
              "      width: 32px;\n",
              "    }\n",
              "\n",
              "    .colab-df-convert:hover {\n",
              "      background-color: #E2EBFA;\n",
              "      box-shadow: 0px 1px 2px rgba(60, 64, 67, 0.3), 0px 1px 3px 1px rgba(60, 64, 67, 0.15);\n",
              "      fill: #174EA6;\n",
              "    }\n",
              "\n",
              "    .colab-df-buttons div {\n",
              "      margin-bottom: 4px;\n",
              "    }\n",
              "\n",
              "    [theme=dark] .colab-df-convert {\n",
              "      background-color: #3B4455;\n",
              "      fill: #D2E3FC;\n",
              "    }\n",
              "\n",
              "    [theme=dark] .colab-df-convert:hover {\n",
              "      background-color: #434B5C;\n",
              "      box-shadow: 0px 1px 3px 1px rgba(0, 0, 0, 0.15);\n",
              "      filter: drop-shadow(0px 1px 2px rgba(0, 0, 0, 0.3));\n",
              "      fill: #FFFFFF;\n",
              "    }\n",
              "  </style>\n",
              "\n",
              "    <script>\n",
              "      const buttonEl =\n",
              "        document.querySelector('#df-316a532e-c48c-4422-a932-a440e62b1b2f button.colab-df-convert');\n",
              "      buttonEl.style.display =\n",
              "        google.colab.kernel.accessAllowed ? 'block' : 'none';\n",
              "\n",
              "      async function convertToInteractive(key) {\n",
              "        const element = document.querySelector('#df-316a532e-c48c-4422-a932-a440e62b1b2f');\n",
              "        const dataTable =\n",
              "          await google.colab.kernel.invokeFunction('convertToInteractive',\n",
              "                                                    [key], {});\n",
              "        if (!dataTable) return;\n",
              "\n",
              "        const docLinkHtml = 'Like what you see? Visit the ' +\n",
              "          '<a target=\"_blank\" href=https://colab.research.google.com/notebooks/data_table.ipynb>data table notebook</a>'\n",
              "          + ' to learn more about interactive tables.';\n",
              "        element.innerHTML = '';\n",
              "        dataTable['output_type'] = 'display_data';\n",
              "        await google.colab.output.renderOutput(dataTable, element);\n",
              "        const docLink = document.createElement('div');\n",
              "        docLink.innerHTML = docLinkHtml;\n",
              "        element.appendChild(docLink);\n",
              "      }\n",
              "    </script>\n",
              "  </div>\n",
              "\n",
              "\n",
              "<div id=\"df-b709cf3c-2e74-401f-ad96-608f2b71f553\">\n",
              "  <button class=\"colab-df-quickchart\" onclick=\"quickchart('df-b709cf3c-2e74-401f-ad96-608f2b71f553')\"\n",
              "            title=\"Suggest charts\"\n",
              "            style=\"display:none;\">\n",
              "\n",
              "<svg xmlns=\"http://www.w3.org/2000/svg\" height=\"24px\"viewBox=\"0 0 24 24\"\n",
              "     width=\"24px\">\n",
              "    <g>\n",
              "        <path d=\"M19 3H5c-1.1 0-2 .9-2 2v14c0 1.1.9 2 2 2h14c1.1 0 2-.9 2-2V5c0-1.1-.9-2-2-2zM9 17H7v-7h2v7zm4 0h-2V7h2v10zm4 0h-2v-4h2v4z\"/>\n",
              "    </g>\n",
              "</svg>\n",
              "  </button>\n",
              "\n",
              "<style>\n",
              "  .colab-df-quickchart {\n",
              "      --bg-color: #E8F0FE;\n",
              "      --fill-color: #1967D2;\n",
              "      --hover-bg-color: #E2EBFA;\n",
              "      --hover-fill-color: #174EA6;\n",
              "      --disabled-fill-color: #AAA;\n",
              "      --disabled-bg-color: #DDD;\n",
              "  }\n",
              "\n",
              "  [theme=dark] .colab-df-quickchart {\n",
              "      --bg-color: #3B4455;\n",
              "      --fill-color: #D2E3FC;\n",
              "      --hover-bg-color: #434B5C;\n",
              "      --hover-fill-color: #FFFFFF;\n",
              "      --disabled-bg-color: #3B4455;\n",
              "      --disabled-fill-color: #666;\n",
              "  }\n",
              "\n",
              "  .colab-df-quickchart {\n",
              "    background-color: var(--bg-color);\n",
              "    border: none;\n",
              "    border-radius: 50%;\n",
              "    cursor: pointer;\n",
              "    display: none;\n",
              "    fill: var(--fill-color);\n",
              "    height: 32px;\n",
              "    padding: 0;\n",
              "    width: 32px;\n",
              "  }\n",
              "\n",
              "  .colab-df-quickchart:hover {\n",
              "    background-color: var(--hover-bg-color);\n",
              "    box-shadow: 0 1px 2px rgba(60, 64, 67, 0.3), 0 1px 3px 1px rgba(60, 64, 67, 0.15);\n",
              "    fill: var(--button-hover-fill-color);\n",
              "  }\n",
              "\n",
              "  .colab-df-quickchart-complete:disabled,\n",
              "  .colab-df-quickchart-complete:disabled:hover {\n",
              "    background-color: var(--disabled-bg-color);\n",
              "    fill: var(--disabled-fill-color);\n",
              "    box-shadow: none;\n",
              "  }\n",
              "\n",
              "  .colab-df-spinner {\n",
              "    border: 2px solid var(--fill-color);\n",
              "    border-color: transparent;\n",
              "    border-bottom-color: var(--fill-color);\n",
              "    animation:\n",
              "      spin 1s steps(1) infinite;\n",
              "  }\n",
              "\n",
              "  @keyframes spin {\n",
              "    0% {\n",
              "      border-color: transparent;\n",
              "      border-bottom-color: var(--fill-color);\n",
              "      border-left-color: var(--fill-color);\n",
              "    }\n",
              "    20% {\n",
              "      border-color: transparent;\n",
              "      border-left-color: var(--fill-color);\n",
              "      border-top-color: var(--fill-color);\n",
              "    }\n",
              "    30% {\n",
              "      border-color: transparent;\n",
              "      border-left-color: var(--fill-color);\n",
              "      border-top-color: var(--fill-color);\n",
              "      border-right-color: var(--fill-color);\n",
              "    }\n",
              "    40% {\n",
              "      border-color: transparent;\n",
              "      border-right-color: var(--fill-color);\n",
              "      border-top-color: var(--fill-color);\n",
              "    }\n",
              "    60% {\n",
              "      border-color: transparent;\n",
              "      border-right-color: var(--fill-color);\n",
              "    }\n",
              "    80% {\n",
              "      border-color: transparent;\n",
              "      border-right-color: var(--fill-color);\n",
              "      border-bottom-color: var(--fill-color);\n",
              "    }\n",
              "    90% {\n",
              "      border-color: transparent;\n",
              "      border-bottom-color: var(--fill-color);\n",
              "    }\n",
              "  }\n",
              "</style>\n",
              "\n",
              "  <script>\n",
              "    async function quickchart(key) {\n",
              "      const quickchartButtonEl =\n",
              "        document.querySelector('#' + key + ' button');\n",
              "      quickchartButtonEl.disabled = true;  // To prevent multiple clicks.\n",
              "      quickchartButtonEl.classList.add('colab-df-spinner');\n",
              "      try {\n",
              "        const charts = await google.colab.kernel.invokeFunction(\n",
              "            'suggestCharts', [key], {});\n",
              "      } catch (error) {\n",
              "        console.error('Error during call to suggestCharts:', error);\n",
              "      }\n",
              "      quickchartButtonEl.classList.remove('colab-df-spinner');\n",
              "      quickchartButtonEl.classList.add('colab-df-quickchart-complete');\n",
              "    }\n",
              "    (() => {\n",
              "      let quickchartButtonEl =\n",
              "        document.querySelector('#df-b709cf3c-2e74-401f-ad96-608f2b71f553 button');\n",
              "      quickchartButtonEl.style.display =\n",
              "        google.colab.kernel.accessAllowed ? 'block' : 'none';\n",
              "    })();\n",
              "  </script>\n",
              "</div>\n",
              "\n",
              "    </div>\n",
              "  </div>\n"
            ],
            "application/vnd.google.colaboratory.intrinsic+json": {
              "type": "dataframe",
              "summary": "{\n  \"name\": \"df\",\n  \"rows\": 5,\n  \"fields\": [\n    {\n      \"column\": \"Region\",\n      \"properties\": {\n        \"dtype\": \"category\",\n        \"samples\": [\n          \"Oeste\"\n        ],\n        \"num_unique_values\": 1,\n        \"semantic_type\": \"\",\n        \"description\": \"\"\n      }\n    },\n    {\n      \"column\": \"Producto\",\n      \"properties\": {\n        \"dtype\": \"string\",\n        \"samples\": [\n          \"Accesorios\"\n        ],\n        \"num_unique_values\": 3,\n        \"semantic_type\": \"\",\n        \"description\": \"\"\n      }\n    },\n    {\n      \"column\": \"Vendedor\",\n      \"properties\": {\n        \"dtype\": \"category\",\n        \"samples\": [\n          \"Kevin\"\n        ],\n        \"num_unique_values\": 2,\n        \"semantic_type\": \"\",\n        \"description\": \"\"\n      }\n    },\n    {\n      \"column\": \"Ventas\",\n      \"properties\": {\n        \"dtype\": \"number\",\n        \"std\": 11474,\n        \"min\": 5442,\n        \"max\": 32855,\n        \"samples\": [\n          10711\n        ],\n        \"num_unique_values\": 5,\n        \"semantic_type\": \"\",\n        \"description\": \"\"\n      }\n    }\n  ]\n}"
            }
          },
          "metadata": {},
          "execution_count": 88
        }
      ]
    },
    {
      "cell_type": "code",
      "source": [
        "#Muestra información sobre el DataFrame, incluyendo tipos de datos y valores no nulos\n",
        "df.info()"
      ],
      "metadata": {
        "colab": {
          "base_uri": "https://localhost:8080/"
        },
        "id": "8tf_dVTYml5F",
        "outputId": "5501357a-eb23-4eb4-c51c-a76353f1bf5f"
      },
      "execution_count": 89,
      "outputs": [
        {
          "output_type": "stream",
          "name": "stdout",
          "text": [
            "<class 'pandas.core.frame.DataFrame'>\n",
            "RangeIndex: 18 entries, 0 to 17\n",
            "Data columns (total 4 columns):\n",
            " #   Column    Non-Null Count  Dtype \n",
            "---  ------    --------------  ----- \n",
            " 0   Region    18 non-null     object\n",
            " 1   Producto  18 non-null     object\n",
            " 2   Vendedor  18 non-null     object\n",
            " 3   Ventas    18 non-null     int64 \n",
            "dtypes: int64(1), object(3)\n",
            "memory usage: 704.0+ bytes\n"
          ]
        }
      ]
    },
    {
      "cell_type": "code",
      "source": [
        "#Proporciona estadisticas descriptivas para columnas numericas\n",
        "df.describe()"
      ],
      "metadata": {
        "colab": {
          "base_uri": "https://localhost:8080/",
          "height": 300
        },
        "id": "27rITg9Mmn_Y",
        "outputId": "4003f782-9c0c-4b05-d06d-4092f573eb23"
      },
      "execution_count": 90,
      "outputs": [
        {
          "output_type": "execute_result",
          "data": {
            "text/plain": [
              "             Ventas\n",
              "count     18.000000\n",
              "mean   13307.388889\n",
              "std     8153.055776\n",
              "min     4744.000000\n",
              "25%     8410.250000\n",
              "50%    10529.500000\n",
              "75%    13491.750000\n",
              "max    32855.000000"
            ],
            "text/html": [
              "\n",
              "  <div id=\"df-2f821d3d-c124-4666-b5fa-f2392e8285eb\" class=\"colab-df-container\">\n",
              "    <div>\n",
              "<style scoped>\n",
              "    .dataframe tbody tr th:only-of-type {\n",
              "        vertical-align: middle;\n",
              "    }\n",
              "\n",
              "    .dataframe tbody tr th {\n",
              "        vertical-align: top;\n",
              "    }\n",
              "\n",
              "    .dataframe thead th {\n",
              "        text-align: right;\n",
              "    }\n",
              "</style>\n",
              "<table border=\"1\" class=\"dataframe\">\n",
              "  <thead>\n",
              "    <tr style=\"text-align: right;\">\n",
              "      <th></th>\n",
              "      <th>Ventas</th>\n",
              "    </tr>\n",
              "  </thead>\n",
              "  <tbody>\n",
              "    <tr>\n",
              "      <th>count</th>\n",
              "      <td>18.000000</td>\n",
              "    </tr>\n",
              "    <tr>\n",
              "      <th>mean</th>\n",
              "      <td>13307.388889</td>\n",
              "    </tr>\n",
              "    <tr>\n",
              "      <th>std</th>\n",
              "      <td>8153.055776</td>\n",
              "    </tr>\n",
              "    <tr>\n",
              "      <th>min</th>\n",
              "      <td>4744.000000</td>\n",
              "    </tr>\n",
              "    <tr>\n",
              "      <th>25%</th>\n",
              "      <td>8410.250000</td>\n",
              "    </tr>\n",
              "    <tr>\n",
              "      <th>50%</th>\n",
              "      <td>10529.500000</td>\n",
              "    </tr>\n",
              "    <tr>\n",
              "      <th>75%</th>\n",
              "      <td>13491.750000</td>\n",
              "    </tr>\n",
              "    <tr>\n",
              "      <th>max</th>\n",
              "      <td>32855.000000</td>\n",
              "    </tr>\n",
              "  </tbody>\n",
              "</table>\n",
              "</div>\n",
              "    <div class=\"colab-df-buttons\">\n",
              "\n",
              "  <div class=\"colab-df-container\">\n",
              "    <button class=\"colab-df-convert\" onclick=\"convertToInteractive('df-2f821d3d-c124-4666-b5fa-f2392e8285eb')\"\n",
              "            title=\"Convert this dataframe to an interactive table.\"\n",
              "            style=\"display:none;\">\n",
              "\n",
              "  <svg xmlns=\"http://www.w3.org/2000/svg\" height=\"24px\" viewBox=\"0 -960 960 960\">\n",
              "    <path d=\"M120-120v-720h720v720H120Zm60-500h600v-160H180v160Zm220 220h160v-160H400v160Zm0 220h160v-160H400v160ZM180-400h160v-160H180v160Zm440 0h160v-160H620v160ZM180-180h160v-160H180v160Zm440 0h160v-160H620v160Z\"/>\n",
              "  </svg>\n",
              "    </button>\n",
              "\n",
              "  <style>\n",
              "    .colab-df-container {\n",
              "      display:flex;\n",
              "      gap: 12px;\n",
              "    }\n",
              "\n",
              "    .colab-df-convert {\n",
              "      background-color: #E8F0FE;\n",
              "      border: none;\n",
              "      border-radius: 50%;\n",
              "      cursor: pointer;\n",
              "      display: none;\n",
              "      fill: #1967D2;\n",
              "      height: 32px;\n",
              "      padding: 0 0 0 0;\n",
              "      width: 32px;\n",
              "    }\n",
              "\n",
              "    .colab-df-convert:hover {\n",
              "      background-color: #E2EBFA;\n",
              "      box-shadow: 0px 1px 2px rgba(60, 64, 67, 0.3), 0px 1px 3px 1px rgba(60, 64, 67, 0.15);\n",
              "      fill: #174EA6;\n",
              "    }\n",
              "\n",
              "    .colab-df-buttons div {\n",
              "      margin-bottom: 4px;\n",
              "    }\n",
              "\n",
              "    [theme=dark] .colab-df-convert {\n",
              "      background-color: #3B4455;\n",
              "      fill: #D2E3FC;\n",
              "    }\n",
              "\n",
              "    [theme=dark] .colab-df-convert:hover {\n",
              "      background-color: #434B5C;\n",
              "      box-shadow: 0px 1px 3px 1px rgba(0, 0, 0, 0.15);\n",
              "      filter: drop-shadow(0px 1px 2px rgba(0, 0, 0, 0.3));\n",
              "      fill: #FFFFFF;\n",
              "    }\n",
              "  </style>\n",
              "\n",
              "    <script>\n",
              "      const buttonEl =\n",
              "        document.querySelector('#df-2f821d3d-c124-4666-b5fa-f2392e8285eb button.colab-df-convert');\n",
              "      buttonEl.style.display =\n",
              "        google.colab.kernel.accessAllowed ? 'block' : 'none';\n",
              "\n",
              "      async function convertToInteractive(key) {\n",
              "        const element = document.querySelector('#df-2f821d3d-c124-4666-b5fa-f2392e8285eb');\n",
              "        const dataTable =\n",
              "          await google.colab.kernel.invokeFunction('convertToInteractive',\n",
              "                                                    [key], {});\n",
              "        if (!dataTable) return;\n",
              "\n",
              "        const docLinkHtml = 'Like what you see? Visit the ' +\n",
              "          '<a target=\"_blank\" href=https://colab.research.google.com/notebooks/data_table.ipynb>data table notebook</a>'\n",
              "          + ' to learn more about interactive tables.';\n",
              "        element.innerHTML = '';\n",
              "        dataTable['output_type'] = 'display_data';\n",
              "        await google.colab.output.renderOutput(dataTable, element);\n",
              "        const docLink = document.createElement('div');\n",
              "        docLink.innerHTML = docLinkHtml;\n",
              "        element.appendChild(docLink);\n",
              "      }\n",
              "    </script>\n",
              "  </div>\n",
              "\n",
              "\n",
              "<div id=\"df-06d0792c-b7b1-47d4-804e-528e588daebe\">\n",
              "  <button class=\"colab-df-quickchart\" onclick=\"quickchart('df-06d0792c-b7b1-47d4-804e-528e588daebe')\"\n",
              "            title=\"Suggest charts\"\n",
              "            style=\"display:none;\">\n",
              "\n",
              "<svg xmlns=\"http://www.w3.org/2000/svg\" height=\"24px\"viewBox=\"0 0 24 24\"\n",
              "     width=\"24px\">\n",
              "    <g>\n",
              "        <path d=\"M19 3H5c-1.1 0-2 .9-2 2v14c0 1.1.9 2 2 2h14c1.1 0 2-.9 2-2V5c0-1.1-.9-2-2-2zM9 17H7v-7h2v7zm4 0h-2V7h2v10zm4 0h-2v-4h2v4z\"/>\n",
              "    </g>\n",
              "</svg>\n",
              "  </button>\n",
              "\n",
              "<style>\n",
              "  .colab-df-quickchart {\n",
              "      --bg-color: #E8F0FE;\n",
              "      --fill-color: #1967D2;\n",
              "      --hover-bg-color: #E2EBFA;\n",
              "      --hover-fill-color: #174EA6;\n",
              "      --disabled-fill-color: #AAA;\n",
              "      --disabled-bg-color: #DDD;\n",
              "  }\n",
              "\n",
              "  [theme=dark] .colab-df-quickchart {\n",
              "      --bg-color: #3B4455;\n",
              "      --fill-color: #D2E3FC;\n",
              "      --hover-bg-color: #434B5C;\n",
              "      --hover-fill-color: #FFFFFF;\n",
              "      --disabled-bg-color: #3B4455;\n",
              "      --disabled-fill-color: #666;\n",
              "  }\n",
              "\n",
              "  .colab-df-quickchart {\n",
              "    background-color: var(--bg-color);\n",
              "    border: none;\n",
              "    border-radius: 50%;\n",
              "    cursor: pointer;\n",
              "    display: none;\n",
              "    fill: var(--fill-color);\n",
              "    height: 32px;\n",
              "    padding: 0;\n",
              "    width: 32px;\n",
              "  }\n",
              "\n",
              "  .colab-df-quickchart:hover {\n",
              "    background-color: var(--hover-bg-color);\n",
              "    box-shadow: 0 1px 2px rgba(60, 64, 67, 0.3), 0 1px 3px 1px rgba(60, 64, 67, 0.15);\n",
              "    fill: var(--button-hover-fill-color);\n",
              "  }\n",
              "\n",
              "  .colab-df-quickchart-complete:disabled,\n",
              "  .colab-df-quickchart-complete:disabled:hover {\n",
              "    background-color: var(--disabled-bg-color);\n",
              "    fill: var(--disabled-fill-color);\n",
              "    box-shadow: none;\n",
              "  }\n",
              "\n",
              "  .colab-df-spinner {\n",
              "    border: 2px solid var(--fill-color);\n",
              "    border-color: transparent;\n",
              "    border-bottom-color: var(--fill-color);\n",
              "    animation:\n",
              "      spin 1s steps(1) infinite;\n",
              "  }\n",
              "\n",
              "  @keyframes spin {\n",
              "    0% {\n",
              "      border-color: transparent;\n",
              "      border-bottom-color: var(--fill-color);\n",
              "      border-left-color: var(--fill-color);\n",
              "    }\n",
              "    20% {\n",
              "      border-color: transparent;\n",
              "      border-left-color: var(--fill-color);\n",
              "      border-top-color: var(--fill-color);\n",
              "    }\n",
              "    30% {\n",
              "      border-color: transparent;\n",
              "      border-left-color: var(--fill-color);\n",
              "      border-top-color: var(--fill-color);\n",
              "      border-right-color: var(--fill-color);\n",
              "    }\n",
              "    40% {\n",
              "      border-color: transparent;\n",
              "      border-right-color: var(--fill-color);\n",
              "      border-top-color: var(--fill-color);\n",
              "    }\n",
              "    60% {\n",
              "      border-color: transparent;\n",
              "      border-right-color: var(--fill-color);\n",
              "    }\n",
              "    80% {\n",
              "      border-color: transparent;\n",
              "      border-right-color: var(--fill-color);\n",
              "      border-bottom-color: var(--fill-color);\n",
              "    }\n",
              "    90% {\n",
              "      border-color: transparent;\n",
              "      border-bottom-color: var(--fill-color);\n",
              "    }\n",
              "  }\n",
              "</style>\n",
              "\n",
              "  <script>\n",
              "    async function quickchart(key) {\n",
              "      const quickchartButtonEl =\n",
              "        document.querySelector('#' + key + ' button');\n",
              "      quickchartButtonEl.disabled = true;  // To prevent multiple clicks.\n",
              "      quickchartButtonEl.classList.add('colab-df-spinner');\n",
              "      try {\n",
              "        const charts = await google.colab.kernel.invokeFunction(\n",
              "            'suggestCharts', [key], {});\n",
              "      } catch (error) {\n",
              "        console.error('Error during call to suggestCharts:', error);\n",
              "      }\n",
              "      quickchartButtonEl.classList.remove('colab-df-spinner');\n",
              "      quickchartButtonEl.classList.add('colab-df-quickchart-complete');\n",
              "    }\n",
              "    (() => {\n",
              "      let quickchartButtonEl =\n",
              "        document.querySelector('#df-06d0792c-b7b1-47d4-804e-528e588daebe button');\n",
              "      quickchartButtonEl.style.display =\n",
              "        google.colab.kernel.accessAllowed ? 'block' : 'none';\n",
              "    })();\n",
              "  </script>\n",
              "</div>\n",
              "\n",
              "    </div>\n",
              "  </div>\n"
            ],
            "application/vnd.google.colaboratory.intrinsic+json": {
              "type": "dataframe",
              "summary": "{\n  \"name\": \"df\",\n  \"rows\": 8,\n  \"fields\": [\n    {\n      \"column\": \"Ventas\",\n      \"properties\": {\n        \"dtype\": \"number\",\n        \"std\": 9727.794689822214,\n        \"min\": 18.0,\n        \"max\": 32855.0,\n        \"samples\": [\n          13307.388888888889,\n          10529.5,\n          18.0\n        ],\n        \"num_unique_values\": 8,\n        \"semantic_type\": \"\",\n        \"description\": \"\"\n      }\n    }\n  ]\n}"
            }
          },
          "metadata": {},
          "execution_count": 90
        }
      ]
    },
    {
      "cell_type": "code",
      "source": [
        "#Devuelve una tupla con la cantidad de filas y columnas de DataFrame\n",
        "df.shape"
      ],
      "metadata": {
        "colab": {
          "base_uri": "https://localhost:8080/"
        },
        "id": "ZVogu9S0mrrJ",
        "outputId": "e4b90f8c-3451-4007-b7ee-b72db18e3693"
      },
      "execution_count": 91,
      "outputs": [
        {
          "output_type": "execute_result",
          "data": {
            "text/plain": [
              "(18, 4)"
            ]
          },
          "metadata": {},
          "execution_count": 91
        }
      ]
    },
    {
      "cell_type": "code",
      "source": [
        "#Devuelve una lista con los nombres de las columnas del DataFrame\n",
        "df.columns"
      ],
      "metadata": {
        "colab": {
          "base_uri": "https://localhost:8080/"
        },
        "id": "fmqUG-RIoIUh",
        "outputId": "e9413ded-0f7b-49f7-dde9-ac726b208d31"
      },
      "execution_count": 92,
      "outputs": [
        {
          "output_type": "execute_result",
          "data": {
            "text/plain": [
              "Index(['Region', 'Producto', 'Vendedor', 'Ventas'], dtype='object')"
            ]
          },
          "metadata": {},
          "execution_count": 92
        }
      ]
    },
    {
      "cell_type": "markdown",
      "source": [
        "### **EJERCICIO 2:**"
      ],
      "metadata": {
        "id": "JKglxlvc22SG"
      }
    },
    {
      "cell_type": "code",
      "source": [
        "#Calcular el total de las ventas por región\n",
        "print(\"Calcular el total de las ventas por región\")\n",
        "ventas_por_region = df.groupby('Region')['Ventas'].sum()\n",
        "print(ventas_por_region)\n",
        "print(\"/n\")\n"
      ],
      "metadata": {
        "colab": {
          "base_uri": "https://localhost:8080/"
        },
        "id": "Z4mQTdNE23nH",
        "outputId": "c4f99028-a4b3-4c37-850c-3a20a1ba3892"
      },
      "execution_count": 93,
      "outputs": [
        {
          "output_type": "stream",
          "name": "stdout",
          "text": [
            "Calcular el total de las ventas por región\n",
            "Region\n",
            "Central    90295\n",
            "Este       63555\n",
            "Oeste      85683\n",
            "Name: Ventas, dtype: int64\n",
            "/n\n"
          ]
        }
      ]
    },
    {
      "cell_type": "markdown",
      "source": [
        "### **EJERCICIO 3:**"
      ],
      "metadata": {
        "id": "iWPmge-75aUf"
      }
    },
    {
      "cell_type": "code",
      "source": [
        "#Filtrar el DataFrame para mostrar solo las ventas realizadas por David\n",
        "print(\"Filtrar el DataFrame para mostrar solo las ventas realizadas por David\")\n",
        "ventas_david = df[df['Vendedor']=='David']\n",
        "print(ventas_david)\n",
        "print (\"/n\")\n",
        "\n"
      ],
      "metadata": {
        "colab": {
          "base_uri": "https://localhost:8080/"
        },
        "id": "x9LpHGcE5dd7",
        "outputId": "41657b8b-4f7b-49c1-9381-e6e5d532ef67"
      },
      "execution_count": 94,
      "outputs": [
        {
          "output_type": "stream",
          "name": "stdout",
          "text": [
            "Filtrar el DataFrame para mostrar solo las ventas realizadas por David\n",
            "    Region      Producto Vendedor  Ventas\n",
            "0  Central    Accesorios    David    8287\n",
            "2  Central  Dispositivos    David   11420\n",
            "4  Central      Sistemas    David   20098\n",
            "/n\n"
          ]
        }
      ]
    },
    {
      "cell_type": "markdown",
      "source": [
        "### ***EJERCICIO 4:***"
      ],
      "metadata": {
        "id": "yvYlqhVB6OEv"
      }
    },
    {
      "cell_type": "code",
      "source": [
        "#Calcular el promedio de ventas por producto\n",
        "print(\"Calcular el promedio de ventas por producto\")\n",
        "ventas_por_producto = df.groupby ('Producto')['Ventas'].mean()\n",
        "print(ventas_por_producto)\n",
        "print(\"/n\")"
      ],
      "metadata": {
        "colab": {
          "base_uri": "https://localhost:8080/"
        },
        "id": "vxBZVrt16QxF",
        "outputId": "f3da34dc-27d0-492d-9e77-f21b0d1c4161"
      },
      "execution_count": 95,
      "outputs": [
        {
          "output_type": "stream",
          "name": "stdout",
          "text": [
            "Calcular el promedio de ventas por producto\n",
            "Producto\n",
            "Accesorios       7062.000000\n",
            "Dispositivos    10586.500000\n",
            "Sistemas        22273.666667\n",
            "Name: Ventas, dtype: float64\n",
            "/n\n"
          ]
        }
      ]
    },
    {
      "cell_type": "markdown",
      "source": [
        "### ***EJERCICIO 5:***"
      ],
      "metadata": {
        "id": "-zv7kije61o2"
      }
    },
    {
      "cell_type": "code",
      "source": [
        "#Ordenar el DataFrame por ventas en orden descendente\n",
        "print(\"Ordenar el DataFrame por ventas en orden descendente\")\n",
        "df_ordenado = df.sort_values(by='Ventas', ascending=False)\n",
        "print(df_ordenado)"
      ],
      "metadata": {
        "colab": {
          "base_uri": "https://localhost:8080/"
        },
        "id": "zoJMfnEr63lX",
        "outputId": "5df54b8d-c6ae-4d6d-f51a-e2b6cdff9b65"
      },
      "execution_count": 96,
      "outputs": [
        {
          "output_type": "stream",
          "name": "stdout",
          "text": [
            "Ordenar el DataFrame por ventas en orden descendente\n",
            "     Region      Producto Vendedor  Ventas\n",
            "16    Oeste      Sistemas    Kevin   32855\n",
            "5   Central      Sistemas    Karen   30633\n",
            "17    Oeste      Sistemas     Sara   23151\n",
            "4   Central      Sistemas    David   20098\n",
            "10     Este      Sistemas      Ana   13531\n",
            "11     Este      Sistemas    Lucas   13374\n",
            "3   Central  Dispositivos    Karen   12948\n",
            "2   Central  Dispositivos    David   11420\n",
            "14    Oeste  Dispositivos    Kevin   10711\n",
            "8      Este  Dispositivos      Ana   10348\n",
            "6      Este    Accesorios      Ana    9323\n",
            "9      Este  Dispositivos    Lucas    9312\n",
            "15    Oeste  Dispositivos     Sara    8780\n",
            "0   Central    Accesorios    David    8287\n",
            "7      Este    Accesorios    Lucas    7667\n",
            "1   Central    Accesorios    Karen    6909\n",
            "13    Oeste    Accesorios     Sara    5442\n",
            "12    Oeste    Accesorios    Kevin    4744\n"
          ]
        }
      ]
    },
    {
      "cell_type": "markdown",
      "source": [
        "### ***EJERCICIO 6:***"
      ],
      "metadata": {
        "id": "4a-mLPpeEIJO"
      }
    },
    {
      "cell_type": "code",
      "source": [
        "#Filtrar las filas con ventas mayores a 10000\n",
        "print(\"Filtrar las filas con ventas mayores a 10000\")\n",
        "df_filtrado = df[df['Ventas'] > 10000]\n",
        "print(df_filtrado)\n",
        "print(\"/n\")"
      ],
      "metadata": {
        "colab": {
          "base_uri": "https://localhost:8080/"
        },
        "id": "uZRc3ugnEMv0",
        "outputId": "b695f43e-36db-407b-ba3d-13db98bbca81"
      },
      "execution_count": 97,
      "outputs": [
        {
          "output_type": "stream",
          "name": "stdout",
          "text": [
            "Filtrar las filas con ventas mayores a 10000\n",
            "     Region      Producto Vendedor  Ventas\n",
            "2   Central  Dispositivos    David   11420\n",
            "3   Central  Dispositivos    Karen   12948\n",
            "4   Central      Sistemas    David   20098\n",
            "5   Central      Sistemas    Karen   30633\n",
            "8      Este  Dispositivos      Ana   10348\n",
            "10     Este      Sistemas      Ana   13531\n",
            "11     Este      Sistemas    Lucas   13374\n",
            "14    Oeste  Dispositivos    Kevin   10711\n",
            "16    Oeste      Sistemas    Kevin   32855\n",
            "17    Oeste      Sistemas     Sara   23151\n",
            "/n\n"
          ]
        }
      ]
    },
    {
      "cell_type": "markdown",
      "source": [
        "### ***EJERCICIO 7***\n",
        "\n"
      ],
      "metadata": {
        "id": "380HwEa7Eirx"
      }
    },
    {
      "cell_type": "code",
      "source": [
        "#Ordenar el DataFrame por ventas en orden descentende\n",
        "print(\"Ordenar el DataFrame por ventas en orden descentende\")\n",
        "df_ordenado = df.sort_values(by='Ventas', ascending=False)\n",
        "print (df_ordenado)\n",
        "print(\"/n\")"
      ],
      "metadata": {
        "colab": {
          "base_uri": "https://localhost:8080/"
        },
        "id": "Rf9UjV1JEk9F",
        "outputId": "5a4bd9b3-d3d1-45ab-ea77-7e777ad2d92c"
      },
      "execution_count": 101,
      "outputs": [
        {
          "output_type": "stream",
          "name": "stdout",
          "text": [
            "Ordenar el DataFrame por ventas en orden descentende\n",
            "     Region      Producto Vendedor  Ventas\n",
            "16    Oeste      Sistemas    Kevin   32855\n",
            "5   Central      Sistemas    Karen   30633\n",
            "17    Oeste      Sistemas     Sara   23151\n",
            "4   Central      Sistemas    David   20098\n",
            "10     Este      Sistemas      Ana   13531\n",
            "11     Este      Sistemas    Lucas   13374\n",
            "3   Central  Dispositivos    Karen   12948\n",
            "2   Central  Dispositivos    David   11420\n",
            "14    Oeste  Dispositivos    Kevin   10711\n",
            "8      Este  Dispositivos      Ana   10348\n",
            "6      Este    Accesorios      Ana    9323\n",
            "9      Este  Dispositivos    Lucas    9312\n",
            "15    Oeste  Dispositivos     Sara    8780\n",
            "0   Central    Accesorios    David    8287\n",
            "7      Este    Accesorios    Lucas    7667\n",
            "1   Central    Accesorios    Karen    6909\n",
            "13    Oeste    Accesorios     Sara    5442\n",
            "12    Oeste    Accesorios    Kevin    4744\n",
            "/n\n"
          ]
        }
      ]
    },
    {
      "cell_type": "markdown",
      "source": [
        "### ***EJERCICIO 8***"
      ],
      "metadata": {
        "id": "-gg1ZUPZE6Ek"
      }
    },
    {
      "cell_type": "code",
      "source": [
        "#Eliminar la columna \"Vendedor\"\n",
        "print(\"Eliminar la columna 'Vendedor'\")\n",
        "df_sin_vendedor = df.drop(columns=['Vendedor'])\n",
        "print(df_sin_vendedor)\n",
        "print(\"/n\")\n",
        "print(df)"
      ],
      "metadata": {
        "colab": {
          "base_uri": "https://localhost:8080/"
        },
        "id": "XVB-WP06E8hD",
        "outputId": "af45a522-87ab-45d9-dccf-f4b84b6e002f"
      },
      "execution_count": 103,
      "outputs": [
        {
          "output_type": "stream",
          "name": "stdout",
          "text": [
            "Eliminar la columna 'Vendedor'\n",
            "     Region      Producto  Ventas\n",
            "0   Central    Accesorios    8287\n",
            "1   Central    Accesorios    6909\n",
            "2   Central  Dispositivos   11420\n",
            "3   Central  Dispositivos   12948\n",
            "4   Central      Sistemas   20098\n",
            "5   Central      Sistemas   30633\n",
            "6      Este    Accesorios    9323\n",
            "7      Este    Accesorios    7667\n",
            "8      Este  Dispositivos   10348\n",
            "9      Este  Dispositivos    9312\n",
            "10     Este      Sistemas   13531\n",
            "11     Este      Sistemas   13374\n",
            "12    Oeste    Accesorios    4744\n",
            "13    Oeste    Accesorios    5442\n",
            "14    Oeste  Dispositivos   10711\n",
            "15    Oeste  Dispositivos    8780\n",
            "16    Oeste      Sistemas   32855\n",
            "17    Oeste      Sistemas   23151\n",
            "/n\n",
            "     Region      Producto Vendedor  Ventas\n",
            "0   Central    Accesorios    David    8287\n",
            "1   Central    Accesorios    Karen    6909\n",
            "2   Central  Dispositivos    David   11420\n",
            "3   Central  Dispositivos    Karen   12948\n",
            "4   Central      Sistemas    David   20098\n",
            "5   Central      Sistemas    Karen   30633\n",
            "6      Este    Accesorios      Ana    9323\n",
            "7      Este    Accesorios    Lucas    7667\n",
            "8      Este  Dispositivos      Ana   10348\n",
            "9      Este  Dispositivos    Lucas    9312\n",
            "10     Este      Sistemas      Ana   13531\n",
            "11     Este      Sistemas    Lucas   13374\n",
            "12    Oeste    Accesorios    Kevin    4744\n",
            "13    Oeste    Accesorios     Sara    5442\n",
            "14    Oeste  Dispositivos    Kevin   10711\n",
            "15    Oeste  Dispositivos     Sara    8780\n",
            "16    Oeste      Sistemas    Kevin   32855\n",
            "17    Oeste      Sistemas     Sara   23151\n"
          ]
        }
      ]
    },
    {
      "cell_type": "markdown",
      "source": [
        "### ***EJERCICIO 9***"
      ],
      "metadata": {
        "id": "nCKMnvGRIpnV"
      }
    },
    {
      "cell_type": "code",
      "source": [
        "#Calcular el total de ventas por región\n",
        "print(\"Calcular el total de ventas por región\")\n",
        "ventas_por_region = df.groupby('Region')['Ventas'].sum()\n",
        "print(ventas_por_region)\n",
        "print(\"/n\")\n"
      ],
      "metadata": {
        "colab": {
          "base_uri": "https://localhost:8080/"
        },
        "id": "mIG3rtiyIpXH",
        "outputId": "5d588b8b-e253-4ff3-bd28-ff60cb573bfd"
      },
      "execution_count": 107,
      "outputs": [
        {
          "output_type": "stream",
          "name": "stdout",
          "text": [
            "Calcular el total de ventas por región\n",
            "Region\n",
            "Central    90295\n",
            "Este       63555\n",
            "Oeste      85683\n",
            "Name: Ventas, dtype: int64\n",
            "/n\n"
          ]
        }
      ]
    },
    {
      "cell_type": "markdown",
      "source": [
        "### ***EJERCICIO 10:***"
      ],
      "metadata": {
        "id": "tqgGsf9TJkhV"
      }
    },
    {
      "cell_type": "code",
      "source": [
        "#Calcular el promedio de ventas por producto\n",
        "print(\"Calcular el promedio de ventas por producto\")\n",
        "ventas_por_producto = df.groupby ('Producto')['Ventas'].mean()\n",
        "print(ventas_por_producto)\n",
        "print(\"/n\")"
      ],
      "metadata": {
        "colab": {
          "base_uri": "https://localhost:8080/"
        },
        "id": "XLClzUTrJsrM",
        "outputId": "4419435c-dbb1-407c-dafa-f861211c58e6"
      },
      "execution_count": 108,
      "outputs": [
        {
          "output_type": "stream",
          "name": "stdout",
          "text": [
            "Calcular el promedio de ventas por producto\n",
            "Producto\n",
            "Accesorios       7062.000000\n",
            "Dispositivos    10586.500000\n",
            "Sistemas        22273.666667\n",
            "Name: Ventas, dtype: float64\n",
            "/n\n"
          ]
        }
      ]
    }
  ]
}